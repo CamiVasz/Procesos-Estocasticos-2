{
 "cells": [
  {
   "cell_type": "markdown",
   "metadata": {},
   "source": [
    "# Estimación de parámetros"
   ]
  },
  {
   "cell_type": "code",
   "execution_count": 3,
   "metadata": {},
   "outputs": [],
   "source": [
    "import numpy as np\n",
    "from matplotlib import pyplot as plt"
   ]
  },
  {
   "cell_type": "markdown",
   "metadata": {},
   "source": [
    "## Procesos de reversión a la media con tendencia a largo plazo.\n",
    "\n",
    "$$dX_t = \\alpha(\\mu(t) - X_t)dt + \\sigma X_t^\\gamma dB_t \\qquad t\\in[0,T] \\qquad X_0 = x$$\n",
    "\n",
    "* $\\alpha>0$ es la tasa de reversión.\n",
    "* $\\mu(t)$ es una función determinista, el nivel medio de reversión.\n",
    "* $\\sigma > 0$ está asociado con la volatilidad.\n",
    "* $\\gamma \\in [0, 3_/2]$ determina la sensibilidad de la varianza."
   ]
  },
  {
   "cell_type": "code",
   "execution_count": 4,
   "metadata": {},
   "outputs": [],
   "source": [
    "X0 = 2\n",
    "alpha = 37\n",
    "sigma = 0.7\n",
    "gamma = 1\n",
    "a = 1.5\n",
    "b = 1\n",
    "P = 1\n",
    "beta = 2*np.pi/P\n",
    "N = 250\n",
    "dt = 1/250"
   ]
  },
  {
   "cell_type": "markdown",
   "metadata": {},
   "source": [
    "#### Función de tendencia"
   ]
  },
  {
   "cell_type": "code",
   "execution_count": 5,
   "metadata": {},
   "outputs": [],
   "source": [
    "def mu(t):\n",
    "    return a + b*np.sin((2*np.pi*t)/P)"
   ]
  },
  {
   "cell_type": "markdown",
   "metadata": {},
   "source": [
    "### Función media de $X_t$\n",
    "Para $\\mu(t) = a + b\\sin(2\\pi t/P)$"
   ]
  },
  {
   "cell_type": "code",
   "execution_count": 6,
   "metadata": {},
   "outputs": [],
   "source": [
    "m0 = mu(0)\n",
    "def m(t):\n",
    "    c = a + (m0 - a + (a*beta*b)/(a**2* + beta**2))*np.exp(-alpha*t)\n",
    "    d = ((a*b)/(a**2 + beta**2))*(alpha*np.sin(beta*t) - beta*np.cos(beta*t))\n",
    "    return c + d"
   ]
  },
  {
   "cell_type": "code",
   "execution_count": 7,
   "metadata": {},
   "outputs": [],
   "source": [
    "mu1 = np.zeros(N)\n",
    "m1 = np.zeros(N)\n",
    "for j in range(N):\n",
    "    mu1[j] = mu(j*dt)\n",
    "    m1[j] = m(j*dt)"
   ]
  },
  {
   "cell_type": "code",
   "execution_count": 8,
   "metadata": {},
   "outputs": [],
   "source": [
    "X = np.zeros(N)\n",
    "X[0] = X0\n",
    "for j in range(1,N):\n",
    "    X[j] = X[j-1] + alpha*(mu1[j] - X[j-1])*dt + sigma*X[j-1]**gamma*np.sqrt(dt)*np.random.normal()    "
   ]
  },
  {
   "cell_type": "code",
   "execution_count": 9,
   "metadata": {},
   "outputs": [
    {
     "data": {
      "image/png": "[encoded data removed]",
      "text/plain": [
       "<Figure size 432x288 with 1 Axes>"
      ]
     },
     "metadata": {
      "needs_background": "light"
     },
     "output_type": "display_data"
    }
   ],
   "source": [
    "plt.plot(X)\n",
    "plt.plot(mu1)\n",
    "plt.plot(m1)\n",
    "plt.show()"
   ]
  },
  {
   "cell_type": "markdown",
   "metadata": {},
   "source": [
    "## Parámetros a estimar\n",
    "$\\theta = [\\alpha, \\sigma, \\gamma]$"
   ]
  },
  {
   "cell_type": "markdown",
   "metadata": {},
   "source": [
    "$$\\mu(t) = m(t) + \\frac{\\dot{m}(t)}{\\alpha}$$"
   ]
  },
  {
   "cell_type": "code",
   "execution_count": 32,
   "metadata": {},
   "outputs": [],
   "source": [
    "# Moving average convolution\n",
    "c = np.arange(0,2)\n",
    "c = [1/(2*N + 1) for i in c]\n",
    "mi = np.convolve(c, X)\n",
    "mid = [(2*mi[i+1] - 3*mi[i] + mi[i-1])/dt for i in range(1,N-1)]"
   ]
  },
  {
   "cell_type": "code",
   "execution_count": 60,
   "metadata": {},
   "outputs": [],
   "source": [
    "mi = trend"
   ]
  },
  {
   "cell_type": "code",
   "execution_count": 61,
   "metadata": {},
   "outputs": [],
   "source": [
    "mid = [(2*mi[i+1] - 3*mi[i] + mi[i-1])/dt for i in range(1,N-1)]\n",
    "mid.insert(0, (mi[1] - mi[0])/dt)\n",
    "mid.append((mi[-1] - mi[-2])/dt)"
   ]
  },
  {
   "cell_type": "code",
   "execution_count": 62,
   "metadata": {},
   "outputs": [
    {
     "data": {
      "text/plain": [
       "89.14902535462055"
      ]
     },
     "execution_count": 62,
     "metadata": {},
     "output_type": "execute_result"
    }
   ],
   "source": [
    "al1 = np.sum([((X[i]-X[i-1]-mid[i-1]*dt)*(mi[i-1]-X[i-1]))/X[i-1]**(2*gamma) for i in range(1,N)])\n",
    "al2 = np.sum([(((mi[i-1]-X[i-1])/X[i-1]**(gamma))**2)*dt for i in range(1,N)])\n",
    "alphae = al1/al2\n",
    "alphae"
   ]
  },
  {
   "cell_type": "code",
   "execution_count": 63,
   "metadata": {},
   "outputs": [],
   "source": [
    "al1 = [X[i] - X[i-1] - mid[i-1]*dt for i in range(1,N)]\n",
    "al1 = [al1[i-1]*(mi[i-1] - X[i-1]) for i in range(1,N)]\n",
    "al1 = [al1[i-1]/X[i-1]**(2*gamma) for i in range(1,N)]\n",
    "al1 = np.sum(al1)\n",
    "al2 = [mi[i-1] -X[i-1] for i in range(1,N)]\n",
    "al2 = [al2[i-1]/X[i-1]**gamma for i in range(1,N)]\n",
    "al2 = [(al2[i-1]**2)*dt for i in range(1,N)]\n",
    "al2 = np.sum(al2)"
   ]
  },
  {
   "cell_type": "code",
   "execution_count": 64,
   "metadata": {},
   "outputs": [
    {
     "data": {
      "text/plain": [
       "89.14902535462055"
      ]
     },
     "execution_count": 64,
     "metadata": {},
     "output_type": "execute_result"
    }
   ],
   "source": [
    "al1/al2"
   ]
  },
  {
   "cell_type": "code",
   "execution_count": 59,
   "metadata": {},
   "outputs": [],
   "source": [
    "import statsmodels.api as sm\n",
    "cycle, trend = sm.tsa.filters.hpfilter(X,2500)"
   ]
  },
  {
   "cell_type": "code",
   "execution_count": 53,
   "metadata": {},
   "outputs": [
    {
     "data": {
      "text/plain": [
       "[<matplotlib.lines.Line2D at 0x7f9f46edd860>]"
      ]
     },
     "execution_count": 53,
     "metadata": {},
     "output_type": "execute_result"
    },
    {
     "data": {
      "image/png": "[encoded data removed]",
      "text/plain": [
       "<Figure size 432x288 with 1 Axes>"
      ]
     },
     "metadata": {
      "needs_background": "light"
     },
     "output_type": "display_data"
    }
   ],
   "source": [
    "plt.plot(trend)"
   ]
  },
  {
   "cell_type": "code",
   "execution_count": 43,
   "metadata": {},
   "outputs": [
    {
     "data": {
      "text/plain": [
       "(250,)"
      ]
     },
     "execution_count": 43,
     "metadata": {},
     "output_type": "execute_result"
    }
   ],
   "source": [
    "trend.shape"
   ]
  },
  {
   "cell_type": "code",
   "execution_count": null,
   "metadata": {},
   "outputs": [],
   "source": []
  }
 ],
 "metadata": {
  "kernelspec": {
   "display_name": "Python 3",
   "language": "python",
   "name": "python3"
  },
  "language_info": {
   "codemirror_mode": {
    "name": "ipython",
    "version": 3
   },
   "file_extension": ".py",
   "mimetype": "text/x-python",
   "name": "python",
   "nbconvert_exporter": "python",
   "pygments_lexer": "ipython3",
   "version": "3.7.1"
  }
 },
 "nbformat": 4,
 "nbformat_minor": 2
}
