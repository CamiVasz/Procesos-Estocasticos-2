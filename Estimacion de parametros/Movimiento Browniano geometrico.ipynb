{
 "cells": [
  {
   "cell_type": "markdown",
   "metadata": {},
   "source": [
    "# Estimación de parámetros\n",
    "## Movimiento Browninano Geométrico"
   ]
  },
  {
   "cell_type": "code",
   "execution_count": 1,
   "metadata": {},
   "outputs": [],
   "source": [
    "import numpy as np\n",
    "from matplotlib import pyplot as plt\n",
    "import pandas as pd\n",
    "from scipy import stats\n",
    "from statsmodels.stats.diagnostic import lilliefors\n",
    "import warnings\n",
    "warnings.filterwarnings(\"ignore\")\n",
    "%matplotlib inline"
   ]
  },
  {
   "cell_type": "markdown",
   "metadata": {},
   "source": [
    "## Lectura de datos\n",
    "La base de datos fue obtenida de Bloomberg, tiene 200 observaciones en el tiempo."
   ]
  },
  {
   "cell_type": "code",
   "execution_count": 20,
   "metadata": {},
   "outputs": [],
   "source": [
    "X = pd.read_csv('datos.csv')['BABA']\n",
    "X = X.reindex(index=X.index[::-1])\n",
    "X = np.array(X)\n",
    "N = len(X)\n",
    "R = np.zeros(N)\n",
    "# Retornos instantáneos\n",
    "for j in range(1,N):\n",
    "        R[j-1] = (X[j] - X[j-1])/X[j-1]"
   ]
  },
  {
   "cell_type": "code",
   "execution_count": 31,
   "metadata": {},
   "outputs": [
    {
     "data": {
      "image/png": "[encoded data removed]",
      "text/plain": [
       "<Figure size 432x288 with 1 Axes>"
      ]
     },
     "metadata": {
      "needs_background": "light"
     },
     "output_type": "display_data"
    }
   ],
   "source": [
    "plt.plot(X)\n",
    "plt.show()"
   ]
  },
  {
   "cell_type": "markdown",
   "metadata": {},
   "source": [
    "## Tests de normalidad\n",
    "Aplicaremos los test de Jarque-Bera, Shappiro Wilks y Lilliefors a los retornos de la base de datos"
   ]
  },
  {
   "cell_type": "code",
   "execution_count": 35,
   "metadata": {},
   "outputs": [],
   "source": [
    "jb = stats.jarque_bera(R)\n",
    "lilie = lilliefors(R)\n",
    "shapiro = stats.shapiro(R)"
   ]
  },
  {
   "cell_type": "code",
   "execution_count": 36,
   "metadata": {},
   "outputs": [
    {
     "data": {
      "text/html": [
       "<div>\n",
       "<style scoped>\n",
       "    .dataframe tbody tr th:only-of-type {\n",
       "        vertical-align: middle;\n",
       "    }\n",
       "\n",
       "    .dataframe tbody tr th {\n",
       "        vertical-align: top;\n",
       "    }\n",
       "\n",
       "    .dataframe thead th {\n",
       "        text-align: right;\n",
       "    }\n",
       "</style>\n",
       "<table border=\"1\" class=\"dataframe\">\n",
       "  <thead>\n",
       "    <tr style=\"text-align: right;\">\n",
       "      <th></th>\n",
       "      <th>Jarque Bera</th>\n",
       "      <th>Shapiro Wilks</th>\n",
       "      <th>Lilliefors</th>\n",
       "    </tr>\n",
       "  </thead>\n",
       "  <tbody>\n",
       "    <tr>\n",
       "      <th>0</th>\n",
       "      <td>0</td>\n",
       "      <td>0</td>\n",
       "      <td>1</td>\n",
       "    </tr>\n",
       "  </tbody>\n",
       "</table>\n",
       "</div>"
      ],
      "text/plain": [
       "   Jarque Bera  Shapiro Wilks  Lilliefors\n",
       "0            0              0           1"
      ]
     },
     "execution_count": 36,
     "metadata": {},
     "output_type": "execute_result"
    }
   ],
   "source": [
    "df = pd.DataFrame()\n",
    "df['Jarque Bera'] = [1 if jb[1]<0.03 else 0]\n",
    "df['Shapiro Wilks'] = [1 if shapiro[1]<0.03 else 0]\n",
    "df['Lilliefors'] = [1 if lilie[1]<0.05 else 0]\n",
    "df"
   ]
  },
  {
   "cell_type": "markdown",
   "metadata": {},
   "source": [
    "## Dimensión fractal"
   ]
  },
  {
   "cell_type": "code",
   "execution_count": 23,
   "metadata": {},
   "outputs": [],
   "source": [
    "def hFD(a, k_max): \n",
    "# Higuchi FD\n",
    "    L = []\n",
    "    x = []\n",
    "    N = len(a)\n",
    "\n",
    "    for k in range(1,k_max):\n",
    "        Lk = 0\n",
    "        for m in range(0,k):\n",
    "            #we pregenerate all idxs\n",
    "            idxs = np.arange(1,int(np.floor((N-m)/k)),dtype=np.int32)\n",
    "            Lmk = np.sum(np.abs(a[m+idxs*k] - a[m+k*(idxs-1)]))\n",
    "            Lmk = (Lmk*(N - 1)/(((N - m)/ k)* k)) / k\n",
    "            Lk += Lmk\n",
    "\n",
    "        L.append(np.log(Lk/(m+1)))\n",
    "        x.append([np.log(1.0/ k), 1])\n",
    "\n",
    "    (p, r1, r2, s)=np.linalg.lstsq(x, L)\n",
    "    return p[0]"
   ]
  },
  {
   "cell_type": "code",
   "execution_count": 24,
   "metadata": {},
   "outputs": [
    {
     "data": {
      "text/plain": [
       "1.5556692952844957"
      ]
     },
     "execution_count": 24,
     "metadata": {},
     "output_type": "execute_result"
    }
   ],
   "source": [
    "hFD(X, 8)"
   ]
  },
  {
   "cell_type": "code",
   "execution_count": 25,
   "metadata": {},
   "outputs": [],
   "source": [
    "def hurst(signal):\n",
    "    tau = []; lagvec = []\n",
    "\n",
    "    #  Step through the different lags\n",
    "    for lag in range(2,20):\n",
    "\n",
    "    #  produce price difference with lag\n",
    "        pp = np.subtract(signal[lag:],signal[:-lag])\n",
    "\n",
    "    #  Write the different lags into a vector\n",
    "        lagvec.append(lag)\n",
    "\n",
    "    #  Calculate the variance of the difference vector\n",
    "        tau.append(np.std(pp))\n",
    "\n",
    "    #  linear fit to double-log graph (gives power)\n",
    "    m = np.polyfit(np.log10(lagvec),np.log10(tau),1)\n",
    "\n",
    "    # calculate hurst\n",
    "    hurst = m[0]\n",
    "\n",
    "    return hurst"
   ]
  },
  {
   "cell_type": "code",
   "execution_count": 26,
   "metadata": {},
   "outputs": [
    {
     "data": {
      "text/plain": [
       "0.48054957910064966"
      ]
     },
     "execution_count": 26,
     "metadata": {},
     "output_type": "execute_result"
    }
   ],
   "source": [
    "hurst(X)"
   ]
  },
  {
   "cell_type": "markdown",
   "metadata": {},
   "source": [
    "## Estimación de parámetros\n",
    "Ajustaremos nuestros datos a un Movimiento Browniano Geométrico:\n",
    "\n",
    "$$X_t = e^{\\mu t + \\sigma B_t}$$\n"
   ]
  },
  {
   "cell_type": "code",
   "execution_count": 27,
   "metadata": {},
   "outputs": [
    {
     "name": "stdout",
     "output_type": "stream",
     "text": [
      "mu: 0.09179175783287559\n",
      "sigma: 0.34275669927046837\n"
     ]
    }
   ],
   "source": [
    "dt = 1/len(R)\n",
    "media = np.mean(R)\n",
    "varianza = np.var(R)\n",
    "mu = media/dt\n",
    "sigma = np.sqrt(varianza/dt)\n",
    "print('mu: '+str(mu)+'\\n'+'sigma: '+str(sigma))"
   ]
  },
  {
   "cell_type": "code",
   "execution_count": 28,
   "metadata": {},
   "outputs": [],
   "source": [
    "# Parametros\n",
    "N = 100\n",
    "dt = 1/252\n",
    "#mu = 0.5\n",
    "sg = sigma\n",
    "# Condicion inicial\n",
    "X0 = 10\n",
    "S = np.zeros(N)\n",
    "S[0] = X0\n",
    "for j in range(1,N):\n",
    "    S[j] = S[j-1] + mu*S[j-1]*dt + sg*S[j-1]*np.sqrt(dt)*np.random.normal()"
   ]
  },
  {
   "cell_type": "code",
   "execution_count": 29,
   "metadata": {},
   "outputs": [
    {
     "data": {
      "text/plain": [
       "[<matplotlib.lines.Line2D at 0x7fb2a7e4aba8>]"
      ]
     },
     "execution_count": 29,
     "metadata": {},
     "output_type": "execute_result"
    },
    {
     "data": {
      "image/png": "[encoded data removed]",
      "text/plain": [
       "<Figure size 432x288 with 1 Axes>"
      ]
     },
     "metadata": {
      "needs_background": "light"
     },
     "output_type": "display_data"
    }
   ],
   "source": [
    "plt.plot(S)"
   ]
  },
  {
   "cell_type": "code",
   "execution_count": null,
   "metadata": {},
   "outputs": [],
   "source": []
  }
 ],
 "metadata": {
  "kernelspec": {
   "display_name": "Python 3",
   "language": "python",
   "name": "python3"
  },
  "language_info": {
   "codemirror_mode": {
    "name": "ipython",
    "version": 3
   },
   "file_extension": ".py",
   "mimetype": "text/x-python",
   "name": "python",
   "nbconvert_exporter": "python",
   "pygments_lexer": "ipython3",
   "version": "3.7.1"
  }
 },
 "nbformat": 4,
 "nbformat_minor": 2
}
